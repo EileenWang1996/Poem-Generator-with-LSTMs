{
 "cells": [
  {
   "cell_type": "code",
   "execution_count": 1,
   "metadata": {
    "colab": {
     "base_uri": "https://localhost:8080/",
     "height": 34
    },
    "colab_type": "code",
    "id": "ebpB5z8YdhzZ",
    "outputId": "d4c3482b-f8d0-4596-c087-03435ba60fe6"
   },
   "outputs": [
    {
     "name": "stderr",
     "output_type": "stream",
     "text": [
      "Using TensorFlow backend.\n"
     ]
    }
   ],
   "source": [
    "import numpy as np\n",
    "import pandas as pd \n",
    "import os \n",
    "from keras.models import Sequential\n",
    "from keras.layers import Dense\n",
    "from keras.layers import Dropout\n",
    "from keras.layers import LSTM\n",
    "from keras.utils import np_utils\n",
    "from keras.callbacks import ModelCheckpoint"
   ]
  },
  {
   "cell_type": "code",
   "execution_count": 0,
   "metadata": {
    "colab": {
     "base_uri": "https://localhost:8080/",
     "height": 52
    },
    "colab_type": "code",
    "id": "Jloz0qYOeRsu",
    "outputId": "e656e7b7-31a0-4805-e84e-775cf78cefea"
   },
   "outputs": [
    {
     "name": "stdout",
     "output_type": "stream",
     "text": [
      "/content\n",
      "['.config', '.ipynb_checkpoints', 'model-43-0.4930.hdf5', 'haikuzou.txt', 'sample_data']\n"
     ]
    }
   ],
   "source": [
    "curr_path = os.getcwd()\n",
    "print(curr_path)\n",
    "print(os.listdir())"
   ]
  },
  {
   "cell_type": "markdown",
   "metadata": {},
   "source": [
    "## Data Preparation"
   ]
  },
  {
   "cell_type": "code",
   "execution_count": 0,
   "metadata": {
    "colab": {
     "base_uri": "https://localhost:8080/",
     "height": 191
    },
    "colab_type": "code",
    "id": "pOASjS5ceTXP",
    "outputId": "6b91a8f6-6838-4da3-8d2a-2a37d51a9503"
   },
   "outputs": [
    {
     "name": "stdout",
     "output_type": "stream",
     "text": [
      "\"rectory roofers\n",
      "\n",
      "their ladders\n",
      "\n",
      "take them higher\n",
      "\n",
      "\"\n",
      "\n",
      "\"summer cabin\n",
      "\n"
     ]
    }
   ],
   "source": [
    "#load data \n",
    "sonnets = open(curr_path + \"/haikuzou.txt\")\n",
    "\n",
    "#read first 5 lines \n",
    "for i in range(0,5): \n",
    "    print(sonnets.readline())"
   ]
  },
  {
   "cell_type": "code",
   "execution_count": 0,
   "metadata": {
    "colab": {},
    "colab_type": "code",
    "id": "2RVs3K2GeW37"
   },
   "outputs": [],
   "source": [
    "lines = []\n",
    "with open(curr_path + \"/haikuzou.txt\") as sonnets:\n",
    "    content = sonnets.readlines() \n",
    "    for line in content:\n",
    "        lines.append(line)"
   ]
  },
  {
   "cell_type": "code",
   "execution_count": 0,
   "metadata": {
    "colab": {
     "base_uri": "https://localhost:8080/",
     "height": 35
    },
    "colab_type": "code",
    "id": "QcvXNsdfeZsc",
    "outputId": "887c2a2d-a0a5-431c-d1c7-b8156d574995"
   },
   "outputs": [
    {
     "name": "stdout",
     "output_type": "stream",
     "text": [
      "33338\n"
     ]
    }
   ],
   "source": [
    "lines = list(filter(lambda a: a != \"\\n\" and a != \"\\\"\", lines)) #get rid of empty lines \n",
    "print(len(lines))"
   ]
  },
  {
   "cell_type": "code",
   "execution_count": 0,
   "metadata": {
    "colab": {
     "base_uri": "https://localhost:8080/",
     "height": 52
    },
    "colab_type": "code",
    "id": "cLxKIMe7eeKR",
    "outputId": "aac06858-7795-4288-e731-ed19e14ca518"
   },
   "outputs": [
    {
     "name": "stdout",
     "output_type": "stream",
     "text": [
      "113593\n",
      "48\n"
     ]
    }
   ],
   "source": [
    "#join all lines into one big string \n",
    "text = ''.join(elem for elem in lines)\n",
    "text = text.lower()\n",
    "text = text[0:len(text)//4]\n",
    "print(len(text))\n",
    "unique_chars = sorted(list(set(text)))\n",
    "print(len(unique_chars))"
   ]
  },
  {
   "cell_type": "code",
   "execution_count": 0,
   "metadata": {
    "colab": {},
    "colab_type": "code",
    "id": "73bg7lK_efsk"
   },
   "outputs": [],
   "source": [
    "#character mapping \n",
    "values = np.arange(len(unique_chars))\n",
    "number_to_char, char_to_number = {}, {} \n",
    "for i in range(0, len(values)):\n",
    "    number_to_char[values[i]] = unique_chars[i]\n",
    "    char_to_number[unique_chars[i]] = values[i]"
   ]
  },
  {
   "cell_type": "code",
   "execution_count": 0,
   "metadata": {
    "colab": {
     "base_uri": "https://localhost:8080/",
     "height": 72
    },
    "colab_type": "code",
    "id": "bNIw6jecouo0",
    "outputId": "86dd92e2-b113-403e-e94a-e374151d3d1d"
   },
   "outputs": [
    {
     "name": "stdout",
     "output_type": "stream",
     "text": [
      "{'\\n': 0, ' ': 1, '!': 2, '\"': 3, '&': 4, \"'\": 5, ',': 6, '-': 7, '.': 8, '/': 9, '0': 10, '1': 11, '2': 12, '3': 13, '5': 14, '7': 15, '8': 16, ':': 17, ';': 18, '?': 19, '[': 20, ']': 21, 'a': 22, 'b': 23, 'c': 24, 'd': 25, 'e': 26, 'f': 27, 'g': 28, 'h': 29, 'i': 30, 'j': 31, 'k': 32, 'l': 33, 'm': 34, 'n': 35, 'o': 36, 'p': 37, 'q': 38, 'r': 39, 's': 40, 't': 41, 'u': 42, 'v': 43, 'w': 44, 'x': 45, 'y': 46, 'z': 47}\n",
      "{0: '\\n', 1: ' ', 2: '!', 3: '\"', 4: '&', 5: \"'\", 6: ',', 7: '-', 8: '.', 9: '/', 10: '0', 11: '1', 12: '2', 13: '3', 14: '5', 15: '7', 16: '8', 17: ':', 18: ';', 19: '?', 20: '[', 21: ']', 22: 'a', 23: 'b', 24: 'c', 25: 'd', 26: 'e', 27: 'f', 28: 'g', 29: 'h', 30: 'i', 31: 'j', 32: 'k', 33: 'l', 34: 'm', 35: 'n', 36: 'o', 37: 'p', 38: 'q', 39: 'r', 40: 's', 41: 't', 42: 'u', 43: 'v', 44: 'w', 45: 'x', 46: 'y', 47: 'z'}\n"
     ]
    }
   ],
   "source": [
    "print(char_to_number)\n",
    "print(number_to_char)"
   ]
  },
  {
   "cell_type": "markdown",
   "metadata": {},
   "source": [
    "## Building Sequences"
   ]
  },
  {
   "cell_type": "code",
   "execution_count": 0,
   "metadata": {
    "colab": {},
    "colab_type": "code",
    "id": "famN0CGpeiRy"
   },
   "outputs": [],
   "source": [
    "#building sequences \n",
    "x_train, y_train = [], [] #contains numbers \n",
    "sequence_len = 100 \n",
    "for i in range(0, len(text) - sequence_len): \n",
    "    sequence = text[i:i+sequence_len] #get every 100 sequences \n",
    "    target = text[i+sequence_len] #get the next character in the sequence \n",
    "    y_train.append(char_to_number[target])\n",
    "    temp_list = []\n",
    "    for j in range(0, len(sequence)): \n",
    "        char = sequence[j]\n",
    "        char_nb_rep = char_to_number[char]\n",
    "        temp_list.append(char_nb_rep)\n",
    "    x_train.append(temp_list)\n",
    "    temp_list = [] #empty list "
   ]
  },
  {
   "cell_type": "code",
   "execution_count": 0,
   "metadata": {
    "colab": {
     "base_uri": "https://localhost:8080/",
     "height": 104
    },
    "colab_type": "code",
    "id": "HxNBPGGoej-G",
    "outputId": "166d0158-57b6-4ed9-fc72-9087dd841d3e"
   },
   "outputs": [
    {
     "name": "stdout",
     "output_type": "stream",
     "text": [
      "x shape:  (113493, 100, 1)\n",
      "y shape:  (113493, 48)\n",
      "Example of one-hot encoded vector: \n",
      " [0. 0. 0. 0. 0. 0. 0. 0. 0. 0. 0. 0. 0. 0. 0. 0. 0. 0. 0. 0. 0. 0. 0. 0.\n",
      " 0. 0. 0. 0. 0. 0. 0. 0. 0. 0. 0. 0. 0. 0. 0. 0. 1. 0. 0. 0. 0. 0. 0. 0.]\n"
     ]
    }
   ],
   "source": [
    "#transforms data into suitable shape \n",
    "x = np.reshape(x_train, (len(x_train), sequence_len, 1))\n",
    "#normalise x \n",
    "x = x/float(len(unique_chars)) #divide by total number of unique chars\n",
    "print(\"x shape: \", x.shape)\n",
    "\n",
    "#Transform y to one-hot encoded vector \n",
    "y = np_utils.to_categorical(y_train)\n",
    "print(\"y shape: \", y.shape)\n",
    "print(\"Example of one-hot encoded vector: \\n\", y[0])"
   ]
  },
  {
   "cell_type": "markdown",
   "metadata": {},
   "source": [
    "## Building LSTM Model"
   ]
  },
  {
   "cell_type": "code",
   "execution_count": 0,
   "metadata": {
    "colab": {
     "base_uri": "https://localhost:8080/",
     "height": 381
    },
    "colab_type": "code",
    "id": "XBTJfUH_elgT",
    "outputId": "a5257674-f634-44c8-fdac-5329c75a4a04"
   },
   "outputs": [
    {
     "name": "stdout",
     "output_type": "stream",
     "text": [
      "_________________________________________________________________\n",
      "Layer (type)                 Output Shape              Param #   \n",
      "=================================================================\n",
      "lstm_1 (LSTM)                (None, 100, 600)          1444800   \n",
      "_________________________________________________________________\n",
      "dropout_1 (Dropout)          (None, 100, 600)          0         \n",
      "_________________________________________________________________\n",
      "lstm_2 (LSTM)                (None, 100, 600)          2882400   \n",
      "_________________________________________________________________\n",
      "dropout_2 (Dropout)          (None, 100, 600)          0         \n",
      "_________________________________________________________________\n",
      "lstm_3 (LSTM)                (None, 600)               2882400   \n",
      "_________________________________________________________________\n",
      "dropout_3 (Dropout)          (None, 600)               0         \n",
      "_________________________________________________________________\n",
      "dense_1 (Dense)              (None, 48)                28848     \n",
      "=================================================================\n",
      "Total params: 7,238,448\n",
      "Trainable params: 7,238,448\n",
      "Non-trainable params: 0\n",
      "_________________________________________________________________\n"
     ]
    }
   ],
   "source": [
    "#Create the model \n",
    "model = Sequential()\n",
    "model.add(LSTM(600, input_shape=(x.shape[1], x.shape[2]), return_sequences=True))\n",
    "model.add(Dropout(0.2))\n",
    "model.add(LSTM(600, return_sequences=True))\n",
    "model.add(Dropout(0.2))\n",
    "model.add(LSTM(600))\n",
    "model.add(Dropout(0.2))\n",
    "model.add(Dense(y.shape[1], activation='softmax'))\n",
    "model.compile(loss='categorical_crossentropy', optimizer='adam')\n",
    "model.summary() "
   ]
  },
  {
   "cell_type": "code",
   "execution_count": 0,
   "metadata": {
    "colab": {},
    "colab_type": "code",
    "id": "qMgPOb6feoLy"
   },
   "outputs": [],
   "source": [
    "checkpoint = ModelCheckpoint(\"model-{epoch:02d}-{loss:.4f}.hdf5\", monitor='loss', verbose=0, save_best_only = False, save_weights_only = False, mode='auto', period = 1)\n",
    "callbacks_list = [checkpoint]\n",
    "#model.load_weights(\"model-43-0.4930.hdf5\")\n",
    "model.fit(x, y, epochs = 100, batch_size = 100, callbacks = callbacks_list)\n",
    "model.save_weights('model')"
   ]
  },
  {
   "cell_type": "markdown",
   "metadata": {},
   "source": [
    "## Test on training set"
   ]
  },
  {
   "cell_type": "code",
   "execution_count": 0,
   "metadata": {
    "colab": {},
    "colab_type": "code",
    "id": "ewddTB31OtHz"
   },
   "outputs": [],
   "source": [
    "text = ''.join(elem for elem in lines)\n",
    "text = text.lower()\n",
    "sequence2 = text[70000:70100] #choose random sequence as starting point\n",
    "sequence = []\n",
    "for i in range(0, len(sequence2)):\n",
    "    sequence.append(char_to_number[sequence2[i]])"
   ]
  },
  {
   "cell_type": "code",
   "execution_count": null,
   "metadata": {},
   "outputs": [],
   "source": [
    "poem = [] \n",
    "for j in range(0, len(sequence)): \n",
    "    char = number_to_char[sequence[j]]\n",
    "    poem.append(char) #map back numbers to characters \n",
    "    \n",
    "for i in range(0, 1000): #get the next 1000 characters \n",
    "    if i % 10 == 0: \n",
    "      \n",
    "    x = np.reshape(sequence, (1, len(sequence), 1))\n",
    "    #normalise the sequence\n",
    "    x = x/float(len(unique_chars))\n",
    "   \n",
    "    #make the prediction based on current sequence\n",
    "    prediction = np.argmax(model.predict(x)) #returns an index \n",
    "    predicted_char = number_to_char[prediction]\n",
    "    \n",
    "    #add new prediction to poem \n",
    "    poem.append(predicted_char)\n",
    "    #define the next sequence \n",
    "    sequence.append(prediction)\n",
    "    sequence = sequence[1:len(sequence)]"
   ]
  },
  {
   "cell_type": "code",
   "execution_count": null,
   "metadata": {},
   "outputs": [],
   "source": [
    "text = \"\"\n",
    "for char in poem: \n",
    "    text += char \n",
    "print(text)"
   ]
  }
 ],
 "metadata": {
  "accelerator": "GPU",
  "colab": {
   "collapsed_sections": [],
   "name": "Untitled4.ipynb",
   "provenance": [],
   "version": "0.3.2"
  },
  "kernelspec": {
   "display_name": "Python 3",
   "language": "python",
   "name": "python3"
  },
  "language_info": {
   "codemirror_mode": {
    "name": "ipython",
    "version": 3
   },
   "file_extension": ".py",
   "mimetype": "text/x-python",
   "name": "python",
   "nbconvert_exporter": "python",
   "pygments_lexer": "ipython3",
   "version": "3.6.6"
  }
 },
 "nbformat": 4,
 "nbformat_minor": 1
}
